{
 "cells": [
  {
   "cell_type": "markdown",
   "metadata": {},
   "source": [
    "# Prediction of restaurant ratings\n",
    "\n",
    "Semester project by Team Tissot:   \n",
    "\n",
    "**LAUX** David  \n",
    "**RANDIN** Samuel  \n",
    "**SOLONIN** Maksim  \n",
    "**VIVARIE** Romin  \n",
    "\n",
    "Professor: **VLACHOS** Michalis\n"
   ]
  },
  {
   "cell_type": "markdown",
   "metadata": {},
   "source": [
    "## About the project\n",
    "In this Notebook, we will present you the reasons that can influence - positively or negatively - a restaurant's rating on Yelp. "
   ]
  },
  {
   "cell_type": "markdown",
   "metadata": {},
   "source": [
    "## Structure Project\n",
    "\n",
    "\n",
    "### /code\n",
    "Contains the different codes necessary for the realization of this project, namely:\n",
    "\n",
    "***Data Pre-processing.ipynb*** : contains the extraction of the attributes of business out of raw data and converts them into readable data format \n",
    "\n",
    "***DataCleaning.ipynb***: contains the cleaning version of the datasets. extract features\n",
    "\n",
    "***EDA.ipynb***: contains the exploration data analysis\n",
    "\n",
    "***Main.ipynb***: contains the main Notebook.\n",
    "\n",
    "\n",
    "### /data\n",
    "The folder contains the original versions of datasets as well as the cleaned version .\n",
    "You can find the original dataset [here](https://www.yelp.com/dataset/challenge)\n",
    "\n",
    "\n",
    "### /document\n",
    "In this folder you can find: \n",
    "  \n",
    "***project-instructions.pdf***: contains the instructions for the project\n",
    "\n",
    "\n"
   ]
  },
  {
   "cell_type": "code",
   "execution_count": null,
   "metadata": {},
   "outputs": [],
   "source": []
  },
  {
   "cell_type": "code",
   "execution_count": null,
   "metadata": {},
   "outputs": [],
   "source": []
  }
 ],
 "metadata": {
  "kernelspec": {
   "display_name": "Python 3",
   "language": "python",
   "name": "python3"
  },
  "language_info": {
   "codemirror_mode": {
    "name": "ipython",
    "version": 3
   },
   "file_extension": ".py",
   "mimetype": "text/x-python",
   "name": "python",
   "nbconvert_exporter": "python",
   "pygments_lexer": "ipython3",
   "version": "3.7.4"
  }
 },
 "nbformat": 4,
 "nbformat_minor": 2
}
