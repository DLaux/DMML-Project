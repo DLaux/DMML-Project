{
 "cells": [
  {
   "cell_type": "code",
   "execution_count": 2,
   "metadata": {},
   "outputs": [],
   "source": [
    "import pandas as pd\n",
    "import numpy as np\n",
    "import matplotlib.pyplot as plt\n",
    "from pandas.io.json import json_normalize\n",
    "import re"
   ]
  },
  {
   "cell_type": "code",
   "execution_count": 3,
   "metadata": {},
   "outputs": [
    {
     "name": "stderr",
     "output_type": "stream",
     "text": [
      "C:\\Games\\Python\\lib\\site-packages\\IPython\\core\\interactiveshell.py:3020: DtypeWarning: Columns (43) have mixed types. Specify dtype option on import or set low_memory=False.\n",
      "  interactivity=interactivity, compiler=compiler, result=result)\n"
     ]
    }
   ],
   "source": [
    "df = pd.read_csv(\"../data/data.csv\")\n",
    "df = df.drop(\"Unnamed: 0\", axis = 1)\n"
   ]
  },
  {
   "cell_type": "code",
   "execution_count": 4,
   "metadata": {},
   "outputs": [],
   "source": [
    "categ = pd.read_csv(\"../data/categories.txt\")\n",
    "categ.Cuisine = categ.Cuisine.str.rstrip()\n",
    "categ = categ['Cuisine'].tolist()"
   ]
  },
  {
   "cell_type": "code",
   "execution_count": 5,
   "metadata": {},
   "outputs": [],
   "source": [
    "df = df[df.categories.str.contains('|'.join(categ))]"
   ]
  },
  {
   "cell_type": "code",
   "execution_count": 6,
   "metadata": {},
   "outputs": [],
   "source": [
    "temp = df.set_index('business_id').categories.str.split(', ', expand=True).stack()\n",
    "temp = pd.get_dummies(temp).groupby(level=0).sum()\n",
    "temp = temp.loc[:, (temp.sum() >= 500)]"
   ]
  },
  {
   "cell_type": "code",
   "execution_count": 7,
   "metadata": {},
   "outputs": [],
   "source": [
    "result = pd.merge(df, temp, left_on='business_id', right_index=True,\n",
    "                  how='inner', sort=False)\n",
    "result = result.drop(['categories'], axis = 1)"
   ]
  },
  {
   "cell_type": "code",
   "execution_count": 8,
   "metadata": {},
   "outputs": [
    {
     "data": {
      "text/plain": [
       "array(['ON', 'NC', 'AZ', 'OH', 'NV', 'PA', 'AB', 'QC', 'WI', 'IL', 'NY',\n",
       "       'SC', 'NM', 'WA', 'TX', 'BC', 'XWY', 'AR', 'FL', 'XGL'],\n",
       "      dtype=object)"
      ]
     },
     "execution_count": 8,
     "metadata": {},
     "output_type": "execute_result"
    }
   ],
   "source": [
    "result[\"state\"].unique()"
   ]
  },
  {
   "cell_type": "code",
   "execution_count": 11,
   "metadata": {
    "collapsed": true
   },
   "outputs": [
    {
     "data": {
      "text/plain": [
       "Toronto                             6879\n",
       "Las Vegas                           5849\n",
       "Phoenix                             3594\n",
       "MontrГ©al                           3084\n",
       "Calgary                             2465\n",
       "Charlotte                           2400\n",
       "Pittsburgh                          2118\n",
       "Scottsdale                          1441\n",
       "Cleveland                           1249\n",
       "Mississauga                         1239\n",
       "Mesa                                1061\n",
       "Madison                             1008\n",
       "Tempe                                944\n",
       "Henderson                            810\n",
       "Chandler                             788\n",
       "Markham                              730\n",
       "Glendale                             640\n",
       "Gilbert                              527\n",
       "Scarborough                          444\n",
       "Richmond Hill                        432\n",
       "Brampton                             425\n",
       "North York                           411\n",
       "Vaughan                              384\n",
       "Champaign                            379\n",
       "Peoria                               326\n",
       "North Las Vegas                      315\n",
       "Concord                              294\n",
       "Etobicoke                            265\n",
       "Laval                                219\n",
       "Surprise                             201\n",
       "                                    ... \n",
       "Nellis Air Force Base                  1\n",
       "London                                 1\n",
       "Troy Township                          1\n",
       "Brunswick Hills                        1\n",
       "Southeast Calgary                      1\n",
       "Mcknight                               1\n",
       "Tremont                                1\n",
       "Schottsdale                            1\n",
       "Mount Washington                       1\n",
       "Green Valley                           1\n",
       "Piedmont                               1\n",
       "McDonald                               1\n",
       "Rostraver                              1\n",
       "Palgrave                               1\n",
       "MontrГ©al-West                         1\n",
       "Mentor On the                          1\n",
       "Rillton                                1\n",
       "CommunautГ©-Urbaine-de-MontrГ©al       1\n",
       "South Amherst                          1\n",
       "Division No. 6                         1\n",
       "NELLIS AFB                             1\n",
       "Deux-Montagnes                         1\n",
       "Laval, Pont Viau                       1\n",
       "Midnapore                              1\n",
       "Ormstown                               1\n",
       "Malton                                 1\n",
       "Sutersville                            1\n",
       "Don Mills                              1\n",
       "CГґte Saint-Luc                        1\n",
       "Paw Creek                              1\n",
       "Name: city, Length: 703, dtype: int64"
      ]
     },
     "execution_count": 11,
     "metadata": {},
     "output_type": "execute_result"
    }
   ],
   "source": [
    "result.city.value_counts()"
   ]
  },
  {
   "cell_type": "code",
   "execution_count": null,
   "metadata": {},
   "outputs": [],
   "source": []
  },
  {
   "cell_type": "code",
   "execution_count": null,
   "metadata": {},
   "outputs": [],
   "source": []
  }
 ],
 "metadata": {
  "kernelspec": {
   "display_name": "Python 3",
   "language": "python",
   "name": "python3"
  },
  "varInspector": {
   "cols": {
    "lenName": 16,
    "lenType": 16,
    "lenVar": 40
   },
   "kernels_config": {
    "python": {
     "delete_cmd_postfix": "",
     "delete_cmd_prefix": "del ",
     "library": "var_list.py",
     "varRefreshCmd": "print(var_dic_list())"
    },
    "r": {
     "delete_cmd_postfix": ") ",
     "delete_cmd_prefix": "rm(",
     "library": "var_list.r",
     "varRefreshCmd": "cat(var_dic_list()) "
    }
   },
   "types_to_exclude": [
    "module",
    "function",
    "builtin_function_or_method",
    "instance",
    "_Feature"
   ],
   "window_display": false
  }
 },
 "nbformat": 4,
 "nbformat_minor": 2
}
