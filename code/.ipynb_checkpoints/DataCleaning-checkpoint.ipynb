{
 "cells": [
  {
   "cell_type": "markdown",
   "metadata": {},
   "source": [
    "# Prediction of restaurant ratings: Data Cleaning Notebook \n",
    "\n",
    "In this part we are cleaning the data and extract new features from existing one."
   ]
  },
  {
   "cell_type": "code",
   "execution_count": 1,
   "metadata": {},
   "outputs": [],
   "source": [
    "import pandas as pd\n",
    "import numpy as np\n",
    "import matplotlib.pyplot as plt\n",
    "from pandas.io.json import json_normalize\n",
    "import re\n",
    "import os\n",
    "import ast\n",
    "from sklearn import preprocessing"
   ]
  },
  {
   "cell_type": "code",
   "execution_count": 2,
   "metadata": {},
   "outputs": [],
   "source": [
    "pd.set_option('display.max_rows', 500)\n",
    "pd.set_option('display.max_columns', 500)\n",
    "pd.set_option('display.width', 1000)"
   ]
  },
  {
   "cell_type": "code",
   "execution_count": 3,
   "metadata": {},
   "outputs": [],
   "source": [
    "df = pd.read_csv(\"../data/data.csv\", \n",
    "                          encoding='utf_8', \n",
    "                          dtype = 'unicode',\n",
    "                          parse_dates = True,\n",
    "                          infer_datetime_format = True,\n",
    "                          low_memory=False)\n",
    "df = df.drop(\"Unnamed: 0\", axis = 1)\n"
   ]
  },
  {
   "cell_type": "code",
   "execution_count": 4,
   "metadata": {},
   "outputs": [],
   "source": [
    "categ = pd.read_csv(\"../data/categories.txt\")\n",
    "categ.Cuisine = categ.Cuisine.str.rstrip()\n",
    "categ = categ['Cuisine'].tolist()"
   ]
  },
  {
   "cell_type": "code",
   "execution_count": 5,
   "metadata": {},
   "outputs": [],
   "source": [
    "df = df[df.categories.str.contains('|'.join(categ))]"
   ]
  },
  {
   "cell_type": "code",
   "execution_count": 6,
   "metadata": {},
   "outputs": [],
   "source": [
    "def str_to_dict(x):\n",
    "    if type(x) == float:\n",
    "        return {}\n",
    "    else:\n",
    "        return ast.literal_eval(x)"
   ]
  },
  {
   "cell_type": "code",
   "execution_count": 7,
   "metadata": {},
   "outputs": [],
   "source": [
    "df['hours'] = df['hours'].apply(str_to_dict)\n",
    "df = pd.concat([df.drop(['hours'], axis=1), df['hours'].apply(pd.Series)], axis=1)"
   ]
  },
  {
   "cell_type": "code",
   "execution_count": 8,
   "metadata": {},
   "outputs": [],
   "source": [
    "temp = df.set_index('business_id').categories.str.split(', ', expand=True).stack()\n",
    "temp = pd.get_dummies(temp).groupby(level=0).sum()\n",
    "temp = temp.loc[:, (temp.sum() >= 500)]"
   ]
  },
  {
   "cell_type": "code",
   "execution_count": 9,
   "metadata": {},
   "outputs": [],
   "source": [
    "result = pd.merge(df, temp, left_on='business_id', right_index=True,\n",
    "                  how='inner', sort=False)\n",
    "result = result.drop(['categories'], axis = 1)"
   ]
  },
  {
   "cell_type": "code",
   "execution_count": 10,
   "metadata": {},
   "outputs": [],
   "source": [
    "result['Music'] = result['Music'].apply(str_to_dict)\n",
    "result = pd.concat([result.drop(['Music'], axis=1), result['Music'].apply(pd.Series)], axis=1)"
   ]
  },
  {
   "cell_type": "code",
   "execution_count": 11,
   "metadata": {},
   "outputs": [],
   "source": [
    "def musicfunc (row):\n",
    "    if row['dj'] == True or row['background_music'] == True or row['jukebox'] == True or row['live'] == True or row['video'] == True or row['karaoke'] == True:\n",
    "        return True\n",
    "    else:\n",
    "        return False\n",
    "result['Anymusic'] = result.apply(lambda row: musicfunc(row), axis = 1)    \n",
    "   "
   ]
  },
  {
   "cell_type": "code",
   "execution_count": 12,
   "metadata": {},
   "outputs": [
    {
     "data": {
      "text/plain": [
       "False    49689\n",
       "True      1487\n",
       "Name: Anymusic, dtype: int64"
      ]
     },
     "execution_count": 12,
     "metadata": {},
     "output_type": "execute_result"
    }
   ],
   "source": [
    "result['Anymusic'].value_counts()"
   ]
  },
  {
   "cell_type": "code",
   "execution_count": 13,
   "metadata": {},
   "outputs": [],
   "source": [
    "result = result.loc[:, (result.isnull().sum(axis=0) <= 47000)]"
   ]
  },
  {
   "cell_type": "code",
   "execution_count": 14,
   "metadata": {},
   "outputs": [],
   "source": [
    "import datetime\n",
    "result[['Opening_Mon','Closing_Mon']] = result['Monday'].str.split('-',expand=True)\n",
    "result[['Opening_Tue','Closing_Tue']] = result['Tuesday'].str.split('-',expand=True)\n",
    "result[['Opening_Wed','Closing_Wed']] = result['Wednesday'].str.split('-',expand=True)\n",
    "result[['Opening_Thu','Closing_Thu']] = result['Thursday'].str.split('-',expand=True)\n",
    "result[['Opening_Fri','Closing_Fri']] = result['Friday'].str.split('-',expand=True)\n",
    "result[['Opening_Sat','Closing_Sat']] = result['Saturday'].str.split('-',expand=True)\n",
    "result[['Opening_Sun','Closing_Sun']] = result['Sunday'].str.split('-',expand=True)\n"
   ]
  },
  {
   "cell_type": "code",
   "execution_count": 15,
   "metadata": {},
   "outputs": [],
   "source": [
    "for i in [col for col in result if col.startswith('Opening') or col.startswith('Closing')]:\n",
    "    result[i] = pd.to_datetime(result[i], format = '%H:%M')"
   ]
  },
  {
   "cell_type": "code",
   "execution_count": 16,
   "metadata": {},
   "outputs": [],
   "source": [
    "def working_hours(name, clhrs, ophrs):\n",
    "    result['{}'.format(name)] = np.nan\n",
    "    for index,row in result.iterrows():\n",
    "        value = pd.Timedelta(row['{}'.format(clhrs)] - row['{}'.format(ophrs)]).seconds / 3600\n",
    "        #datetime.datetime.combine(datetime.date.min, row['Closing_Wed']) - datetime.datetime.combine(datetime.date.min,row['Opening_Wed'] )\n",
    "        result.set_value(index,'{}'.format(name),value)"
   ]
  },
  {
   "cell_type": "code",
   "execution_count": null,
   "metadata": {},
   "outputs": [
    {
     "name": "stderr",
     "output_type": "stream",
     "text": [
      "//anaconda3/lib/python3.7/site-packages/ipykernel_launcher.py:6: FutureWarning: set_value is deprecated and will be removed in a future release. Please use .at[] or .iat[] accessors instead\n",
      "  \n"
     ]
    }
   ],
   "source": [
    "working_hours('WD_Mon', 'Closing_Mon', 'Opening_Mon')\n",
    "working_hours('WD_Tue', 'Closing_Tue', 'Opening_Tue')\n",
    "working_hours('WD_Wed', 'Closing_Wed', 'Opening_Wed')\n",
    "working_hours('WD_Thu', 'Closing_Thu', 'Opening_Thu')\n",
    "working_hours('WD_Fri', 'Closing_Fri', 'Opening_Fri')\n",
    "working_hours('WD_Sat', 'Closing_Sat', 'Opening_Sat')\n",
    "working_hours('WD_Sun', 'Closing_Sun', 'Opening_Sun')"
   ]
  },
  {
   "cell_type": "code",
   "execution_count": null,
   "metadata": {},
   "outputs": [],
   "source": [
    "for i in [col for col in result if col.startswith('Opening') or col.startswith('Closing')]:\n",
    "    result[i] = result[i].dt.time"
   ]
  },
  {
   "cell_type": "code",
   "execution_count": null,
   "metadata": {},
   "outputs": [],
   "source": [
    "result = result.drop(['Monday', 'Tuesday', 'Wednesday', 'Thursday', 'Friday', 'Saturday', 'Sunday'], axis = 1)\n",
    "result = result[result.columns.drop(list(result.filter(regex='Closing')))]"
   ]
  },
  {
   "cell_type": "code",
   "execution_count": null,
   "metadata": {},
   "outputs": [],
   "source": [
    "def quot_cols(df, col_name):\n",
    "    return df[col_name].astype(str).map(lambda x: re.findall(r\"'(.*?)'\", x)).str[0]"
   ]
  },
  {
   "cell_type": "code",
   "execution_count": null,
   "metadata": {},
   "outputs": [],
   "source": [
    "columns_quotes = ['Alcohol','WiFi','NoiseLevel', 'RestaurantsAttire']\n",
    "for i in columns_quotes:\n",
    "    result[i] = quot_cols(result,i)"
   ]
  },
  {
   "cell_type": "code",
   "execution_count": null,
   "metadata": {},
   "outputs": [],
   "source": [
    "result['BusinessParking'] = result['BusinessParking'].apply(str_to_dict)\n",
    "result = pd.concat([result.drop(['BusinessParking'], axis=1), result['BusinessParking'].apply(pd.Series)], axis=1)\n",
    "result['GoodForMeal'] = result['GoodForMeal'].apply(str_to_dict)\n",
    "result = pd.concat([result.drop(['GoodForMeal'], axis=1), result['GoodForMeal'].apply(pd.Series)], axis=1)"
   ]
  },
  {
   "cell_type": "code",
   "execution_count": null,
   "metadata": {},
   "outputs": [],
   "source": [
    "result['Ambience'] = result['Ambience'].apply(str_to_dict)\n",
    "result = pd.concat([result.drop(['Ambience'], axis=1), result['Ambience'].apply(pd.Series)], axis=1)"
   ]
  },
  {
   "cell_type": "code",
   "execution_count": null,
   "metadata": {},
   "outputs": [],
   "source": [
    "result2 = result.loc[:, (result.isnull().sum(axis=0) <= 2000)] # drop columns with more than 2000 NAs"
   ]
  },
  {
   "cell_type": "code",
   "execution_count": null,
   "metadata": {},
   "outputs": [],
   "source": [
    "result2.shape"
   ]
  },
  {
   "cell_type": "code",
   "execution_count": null,
   "metadata": {},
   "outputs": [],
   "source": [
    "result2 = result2.dropna()"
   ]
  },
  {
   "cell_type": "code",
   "execution_count": null,
   "metadata": {},
   "outputs": [],
   "source": [
    "result2 = result2.drop(['Restaurants'], axis = 1)"
   ]
  },
  {
   "cell_type": "code",
   "execution_count": null,
   "metadata": {},
   "outputs": [],
   "source": [
    "result2 = result2.rename(columns={'RestaurantsPriceRange2':'Price'})"
   ]
  },
  {
   "cell_type": "markdown",
   "metadata": {},
   "source": [
    "## New features"
   ]
  },
  {
   "cell_type": "markdown",
   "metadata": {},
   "source": [
    "Adding name length as feature"
   ]
  },
  {
   "cell_type": "code",
   "execution_count": null,
   "metadata": {},
   "outputs": [],
   "source": [
    "result2['name_length']  = result2['name'].str.len().astype(int)\n",
    "result2['stars']=result2['stars'].astype(float)\n",
    "result2.Price = pd.to_numeric(result2.Price, errors='coerce')\n",
    "result2['review_count'] = result2['review_count'].astype(float)"
   ]
  },
  {
   "cell_type": "code",
   "execution_count": null,
   "metadata": {},
   "outputs": [],
   "source": [
    "min_max_scaler = preprocessing.MinMaxScaler()\n",
    "result2['review_count'] = min_max_scaler.fit_transform(result2['review_count'].values.reshape(-1,1))"
   ]
  },
  {
   "cell_type": "markdown",
   "metadata": {},
   "source": [
    "## Save the clean data"
   ]
  },
  {
   "cell_type": "code",
   "execution_count": null,
   "metadata": {},
   "outputs": [],
   "source": [
    "result2.to_csv('../data/data_clean_new.csv')"
   ]
  },
  {
   "cell_type": "markdown",
   "metadata": {},
   "source": [
    "Back to the <a href=\"http://localhost:8888/notebooks/Documents/GitHub/DMML2019_Team_Tissot/code/Main.ipynb#EDA\">Main Notebook</a>"
   ]
  }
 ],
 "metadata": {
  "kernelspec": {
   "display_name": "Python 3",
   "language": "python",
   "name": "python3"
  },
  "language_info": {
   "codemirror_mode": {
    "name": "ipython",
    "version": 3
   },
   "file_extension": ".py",
   "mimetype": "text/x-python",
   "name": "python",
   "nbconvert_exporter": "python",
   "pygments_lexer": "ipython3",
   "version": "3.7.3"
  },
  "varInspector": {
   "cols": {
    "lenName": 16,
    "lenType": 16,
    "lenVar": 40
   },
   "kernels_config": {
    "python": {
     "delete_cmd_postfix": "",
     "delete_cmd_prefix": "del ",
     "library": "var_list.py",
     "varRefreshCmd": "print(var_dic_list())"
    },
    "r": {
     "delete_cmd_postfix": ") ",
     "delete_cmd_prefix": "rm(",
     "library": "var_list.r",
     "varRefreshCmd": "cat(var_dic_list()) "
    }
   },
   "types_to_exclude": [
    "module",
    "function",
    "builtin_function_or_method",
    "instance",
    "_Feature"
   ],
   "window_display": false
  }
 },
 "nbformat": 4,
 "nbformat_minor": 2
}
