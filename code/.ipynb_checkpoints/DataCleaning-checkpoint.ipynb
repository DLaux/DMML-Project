{
 "cells": [
  {
   "cell_type": "code",
   "execution_count": 17,
   "metadata": {},
   "outputs": [],
   "source": [
    "import pandas as pd\n",
    "import numpy as np\n",
    "import matplotlib.pyplot as plt"
   ]
  },
  {
   "cell_type": "code",
   "execution_count": 18,
   "metadata": {},
   "outputs": [],
   "source": [
    "df = pd.read_csv(\"..\\\\data\\\\data.csv\")\n",
    "df = df.drop(\"Unnamed: 0\", axis = 1)"
   ]
  },
  {
   "cell_type": "code",
   "execution_count": 19,
   "metadata": {},
   "outputs": [
    {
     "data": {
      "text/html": [
       "<div>\n",
       "<style scoped>\n",
       "    .dataframe tbody tr th:only-of-type {\n",
       "        vertical-align: middle;\n",
       "    }\n",
       "\n",
       "    .dataframe tbody tr th {\n",
       "        vertical-align: top;\n",
       "    }\n",
       "\n",
       "    .dataframe thead th {\n",
       "        text-align: right;\n",
       "    }\n",
       "</style>\n",
       "<table border=\"1\" class=\"dataframe\">\n",
       "  <thead>\n",
       "    <tr style=\"text-align: right;\">\n",
       "      <th></th>\n",
       "      <th>address</th>\n",
       "      <th>business_id</th>\n",
       "      <th>categories</th>\n",
       "      <th>city</th>\n",
       "      <th>hours</th>\n",
       "      <th>is_open</th>\n",
       "      <th>latitude</th>\n",
       "      <th>longitude</th>\n",
       "      <th>name</th>\n",
       "      <th>postal_code</th>\n",
       "      <th>...</th>\n",
       "      <th>RestaurantsCounterService</th>\n",
       "      <th>RestaurantsDelivery</th>\n",
       "      <th>RestaurantsGoodForGroups</th>\n",
       "      <th>RestaurantsPriceRange2</th>\n",
       "      <th>RestaurantsReservations</th>\n",
       "      <th>RestaurantsTableService</th>\n",
       "      <th>RestaurantsTakeOut</th>\n",
       "      <th>Smoking</th>\n",
       "      <th>WheelchairAccessible</th>\n",
       "      <th>WiFi</th>\n",
       "    </tr>\n",
       "  </thead>\n",
       "  <tbody>\n",
       "    <tr>\n",
       "      <th>0</th>\n",
       "      <td>30 Eglinton Avenue W</td>\n",
       "      <td>QXAEGFB4oINsVuTFxEYKFQ</td>\n",
       "      <td>Specialty Food, Restaurants, Dim Sum, Imported...</td>\n",
       "      <td>Mississauga</td>\n",
       "      <td>{'Monday': '9:0-0:0', 'Tuesday': '9:0-0:0', 'W...</td>\n",
       "      <td>1</td>\n",
       "      <td>43.605499</td>\n",
       "      <td>-79.652289</td>\n",
       "      <td>Emerald Chinese Restaurant</td>\n",
       "      <td>L5R 3E7</td>\n",
       "      <td>...</td>\n",
       "      <td>NaN</td>\n",
       "      <td>False</td>\n",
       "      <td>True</td>\n",
       "      <td>2</td>\n",
       "      <td>True</td>\n",
       "      <td>True</td>\n",
       "      <td>True</td>\n",
       "      <td>NaN</td>\n",
       "      <td>NaN</td>\n",
       "      <td>u'no'</td>\n",
       "    </tr>\n",
       "    <tr>\n",
       "      <th>1</th>\n",
       "      <td>10110 Johnston Rd, Ste 15</td>\n",
       "      <td>gnKjwL_1w79qoiV3IC_xQQ</td>\n",
       "      <td>Sushi Bars, Restaurants, Japanese</td>\n",
       "      <td>Charlotte</td>\n",
       "      <td>{'Monday': '17:30-21:30', 'Wednesday': '17:30-...</td>\n",
       "      <td>1</td>\n",
       "      <td>35.092564</td>\n",
       "      <td>-80.859132</td>\n",
       "      <td>Musashi Japanese Restaurant</td>\n",
       "      <td>28210</td>\n",
       "      <td>...</td>\n",
       "      <td>NaN</td>\n",
       "      <td>False</td>\n",
       "      <td>True</td>\n",
       "      <td>2</td>\n",
       "      <td>True</td>\n",
       "      <td>True</td>\n",
       "      <td>True</td>\n",
       "      <td>NaN</td>\n",
       "      <td>NaN</td>\n",
       "      <td>u'no'</td>\n",
       "    </tr>\n",
       "  </tbody>\n",
       "</table>\n",
       "<p>2 rows × 52 columns</p>\n",
       "</div>"
      ],
      "text/plain": [
       "                     address             business_id  \\\n",
       "0       30 Eglinton Avenue W  QXAEGFB4oINsVuTFxEYKFQ   \n",
       "1  10110 Johnston Rd, Ste 15  gnKjwL_1w79qoiV3IC_xQQ   \n",
       "\n",
       "                                          categories         city  \\\n",
       "0  Specialty Food, Restaurants, Dim Sum, Imported...  Mississauga   \n",
       "1                  Sushi Bars, Restaurants, Japanese    Charlotte   \n",
       "\n",
       "                                               hours  is_open   latitude  \\\n",
       "0  {'Monday': '9:0-0:0', 'Tuesday': '9:0-0:0', 'W...        1  43.605499   \n",
       "1  {'Monday': '17:30-21:30', 'Wednesday': '17:30-...        1  35.092564   \n",
       "\n",
       "   longitude                         name postal_code  ...    \\\n",
       "0 -79.652289   Emerald Chinese Restaurant     L5R 3E7  ...     \n",
       "1 -80.859132  Musashi Japanese Restaurant       28210  ...     \n",
       "\n",
       "   RestaurantsCounterService  RestaurantsDelivery RestaurantsGoodForGroups  \\\n",
       "0                        NaN                False                     True   \n",
       "1                        NaN                False                     True   \n",
       "\n",
       "  RestaurantsPriceRange2 RestaurantsReservations RestaurantsTableService  \\\n",
       "0                      2                    True                    True   \n",
       "1                      2                    True                    True   \n",
       "\n",
       "  RestaurantsTakeOut Smoking WheelchairAccessible   WiFi  \n",
       "0               True     NaN                  NaN  u'no'  \n",
       "1               True     NaN                  NaN  u'no'  \n",
       "\n",
       "[2 rows x 52 columns]"
      ]
     },
     "execution_count": 19,
     "metadata": {},
     "output_type": "execute_result"
    }
   ],
   "source": [
    "df.head(2)"
   ]
  },
  {
   "cell_type": "code",
   "execution_count": 10,
   "metadata": {},
   "outputs": [
    {
     "data": {
      "text/plain": [
       "array(['ON', 'NC', 'AB', 'NV', 'AZ', 'OH', 'PA', 'QC', 'WI', 'IL', 'NY',\n",
       "       'SC', 'TX', 'NM', 'BAS', 'AK', 'XGM', 'CA', 'WA', 'BC', 'VT', 'CT',\n",
       "       'GA', 'AL', 'XWY', 'AR', 'FL', 'XGL'], dtype=object)"
      ]
     },
     "execution_count": 10,
     "metadata": {},
     "output_type": "execute_result"
    }
   ],
   "source": [
    "df[\"state\"].unique()"
   ]
  },
  {
   "cell_type": "code",
   "execution_count": 12,
   "metadata": {},
   "outputs": [
    {
     "data": {
      "text/plain": [
       "108179"
      ]
     },
     "execution_count": 12,
     "metadata": {},
     "output_type": "execute_result"
    }
   ],
   "source": [
    "df.groupby(\"city\")[\"business_id\"].count().sum()"
   ]
  },
  {
   "cell_type": "code",
   "execution_count": 13,
   "metadata": {},
   "outputs": [
    {
     "data": {
      "text/plain": [
       "Las Vegas                                 14891\n",
       "Toronto                                   13513\n",
       "Phoenix                                    8484\n",
       "Charlotte                                  5389\n",
       "Calgary                                    5008\n",
       "MontrГ©al                                  4915\n",
       "Pittsburgh                                 4366\n",
       "Scottsdale                                 4235\n",
       "Mesa                                       2562\n",
       "Tempe                                      2270\n",
       "Cleveland                                  2243\n",
       "Madison                                    2176\n",
       "Henderson                                  2125\n",
       "Mississauga                                2097\n",
       "Chandler                                   2064\n",
       "Glendale                                   1737\n",
       "Gilbert                                    1420\n",
       "Markham                                    1274\n",
       "Peoria                                      826\n",
       "North York                                  791\n",
       "Champaign                                   790\n",
       "North Las Vegas                             727\n",
       "Scarborough                                 716\n",
       "Richmond Hill                               703\n",
       "Brampton                                    637\n",
       "Vaughan                                     632\n",
       "Concord                                     574\n",
       "Etobicoke                                   512\n",
       "Surprise                                    496\n",
       "Goodyear                                    423\n",
       "                                          ...  \n",
       "Henderson (Green Valley)                      1\n",
       "Catawba Springs                               1\n",
       "Caledon Village                               1\n",
       "Phoenix, AZ                                   1\n",
       "Lynhurst                                      1\n",
       "QUEEN CREEK                                   1\n",
       "MontГ©al                                      1\n",
       "Leeds                                         1\n",
       "Rockyview                                     1\n",
       "Scarbrough                                    1\n",
       "Schaumburg                                    1\n",
       "Pointe Claire                                 1\n",
       "Napierville                                   1\n",
       "Whtiby                                        1\n",
       "Montgomery                                    1\n",
       "Alburg                                        1\n",
       "CAREFREE                                      1\n",
       "Northyork                                     1\n",
       "Lower Lawrenceville                           1\n",
       "Hampstead                                     1\n",
       "Greensboro                                    1\n",
       "Oakridges                                     1\n",
       "St-BenoГ®t de Mirabel                         1\n",
       "Strip District                                1\n",
       "McKeesRocks                                   1\n",
       "University Hts                                1\n",
       "Saint-Pierre-de-VГ©ronne-Г -Pike-River        1\n",
       "Lake Park                                     1\n",
       "Fithian                                       1\n",
       "Rougemont                                     1\n",
       "Name: city, Length: 907, dtype: int64"
      ]
     },
     "execution_count": 13,
     "metadata": {},
     "output_type": "execute_result"
    }
   ],
   "source": [
    "df.city.value_counts()"
   ]
  },
  {
   "cell_type": "code",
   "execution_count": 14,
   "metadata": {},
   "outputs": [],
   "source": [
    "df = df[df[\"is_open\"] == 1]"
   ]
  },
  {
   "cell_type": "code",
   "execution_count": null,
   "metadata": {},
   "outputs": [],
   "source": []
  },
  {
   "cell_type": "code",
   "execution_count": null,
   "metadata": {},
   "outputs": [],
   "source": []
  }
 ],
 "metadata": {
  "kernelspec": {
   "display_name": "Python 3",
   "language": "python",
   "name": "python3"
  },
  "language_info": {
   "codemirror_mode": {
    "name": "ipython",
    "version": 3
   },
   "file_extension": ".py",
   "mimetype": "text/x-python",
   "name": "python",
   "nbconvert_exporter": "python",
   "pygments_lexer": "ipython3",
   "version": "3.7.1"
  },
  "varInspector": {
   "cols": {
    "lenName": 16,
    "lenType": 16,
    "lenVar": 40
   },
   "kernels_config": {
    "python": {
     "delete_cmd_postfix": "",
     "delete_cmd_prefix": "del ",
     "library": "var_list.py",
     "varRefreshCmd": "print(var_dic_list())"
    },
    "r": {
     "delete_cmd_postfix": ") ",
     "delete_cmd_prefix": "rm(",
     "library": "var_list.r",
     "varRefreshCmd": "cat(var_dic_list()) "
    }
   },
   "types_to_exclude": [
    "module",
    "function",
    "builtin_function_or_method",
    "instance",
    "_Feature"
   ],
   "window_display": false
  }
 },
 "nbformat": 4,
 "nbformat_minor": 2
}
