{
 "cells": [
  {
   "cell_type": "markdown",
   "metadata": {},
   "source": [
    "# Data Cleaning\n",
    "\n",
    "In this part we are cleaning the data and extract new features from existing one."
   ]
  },
  {
   "cell_type": "code",
<<<<<<< HEAD
   "execution_count": 9,
=======
   "execution_count": 1,
>>>>>>> d340e08c9dca2e223bbfe18e1f073cc29d6e2d33
   "metadata": {},
   "outputs": [],
   "source": [
    "import pandas as pd\n",
    "import numpy as np\n",
    "import matplotlib.pyplot as plt\n",
    "from pandas.io.json import json_normalize\n",
    "import re"
   ]
  },
  {
   "cell_type": "code",
<<<<<<< HEAD
   "execution_count": 10,
=======
   "execution_count": 46,
>>>>>>> d340e08c9dca2e223bbfe18e1f073cc29d6e2d33
   "metadata": {},
   "outputs": [],
   "source": [
    "df = pd.read_csv(\"../data/data.csv\", \n",
    "                          encoding='utf_8', \n",
    "                          dtype = 'unicode',\n",
    "                          parse_dates = True,\n",
    "                          infer_datetime_format = True,\n",
    "                          low_memory=False)\n",
    "df = df.drop(\"Unnamed: 0\", axis = 1)\n"
   ]
  },
  {
   "cell_type": "code",
<<<<<<< HEAD
   "execution_count": 11,
   "metadata": {},
   "outputs": [
    {
     "data": {
      "text/html": [
       "<div>\n",
       "<style scoped>\n",
       "    .dataframe tbody tr th:only-of-type {\n",
       "        vertical-align: middle;\n",
       "    }\n",
       "\n",
       "    .dataframe tbody tr th {\n",
       "        vertical-align: top;\n",
       "    }\n",
       "\n",
       "    .dataframe thead th {\n",
       "        text-align: right;\n",
       "    }\n",
       "</style>\n",
       "<table border=\"1\" class=\"dataframe\">\n",
       "  <thead>\n",
       "    <tr style=\"text-align: right;\">\n",
       "      <th></th>\n",
       "      <th>address</th>\n",
       "      <th>business_id</th>\n",
       "      <th>categories</th>\n",
       "      <th>city</th>\n",
       "      <th>hours</th>\n",
       "      <th>is_open</th>\n",
       "      <th>latitude</th>\n",
       "      <th>longitude</th>\n",
       "      <th>name</th>\n",
       "      <th>postal_code</th>\n",
       "      <th>...</th>\n",
       "      <th>RestaurantsCounterService</th>\n",
       "      <th>RestaurantsDelivery</th>\n",
       "      <th>RestaurantsGoodForGroups</th>\n",
       "      <th>RestaurantsPriceRange2</th>\n",
       "      <th>RestaurantsReservations</th>\n",
       "      <th>RestaurantsTableService</th>\n",
       "      <th>RestaurantsTakeOut</th>\n",
       "      <th>Smoking</th>\n",
       "      <th>WheelchairAccessible</th>\n",
       "      <th>WiFi</th>\n",
       "    </tr>\n",
       "  </thead>\n",
       "  <tbody>\n",
       "    <tr>\n",
       "      <td>0</td>\n",
       "      <td>30 Eglinton Avenue W</td>\n",
       "      <td>QXAEGFB4oINsVuTFxEYKFQ</td>\n",
       "      <td>Specialty Food, Restaurants, Dim Sum, Imported...</td>\n",
       "      <td>Mississauga</td>\n",
       "      <td>{'Monday': '9:0-0:0', 'Tuesday': '9:0-0:0', 'W...</td>\n",
       "      <td>1</td>\n",
       "      <td>43.605499</td>\n",
       "      <td>-79.652289</td>\n",
       "      <td>Emerald Chinese Restaurant</td>\n",
       "      <td>L5R 3E7</td>\n",
       "      <td>...</td>\n",
       "      <td>NaN</td>\n",
       "      <td>False</td>\n",
       "      <td>True</td>\n",
       "      <td>2</td>\n",
       "      <td>True</td>\n",
       "      <td>True</td>\n",
       "      <td>True</td>\n",
       "      <td>NaN</td>\n",
       "      <td>NaN</td>\n",
       "      <td>u'no'</td>\n",
       "    </tr>\n",
       "    <tr>\n",
       "      <td>1</td>\n",
       "      <td>10110 Johnston Rd, Ste 15</td>\n",
       "      <td>gnKjwL_1w79qoiV3IC_xQQ</td>\n",
       "      <td>Sushi Bars, Restaurants, Japanese</td>\n",
       "      <td>Charlotte</td>\n",
       "      <td>{'Monday': '17:30-21:30', 'Wednesday': '17:30-...</td>\n",
       "      <td>1</td>\n",
       "      <td>35.092564</td>\n",
       "      <td>-80.859132</td>\n",
       "      <td>Musashi Japanese Restaurant</td>\n",
       "      <td>28210</td>\n",
       "      <td>...</td>\n",
       "      <td>NaN</td>\n",
       "      <td>False</td>\n",
       "      <td>True</td>\n",
       "      <td>2</td>\n",
       "      <td>True</td>\n",
       "      <td>True</td>\n",
       "      <td>True</td>\n",
       "      <td>NaN</td>\n",
       "      <td>NaN</td>\n",
       "      <td>u'no'</td>\n",
       "    </tr>\n",
       "  </tbody>\n",
       "</table>\n",
       "<p>2 rows × 52 columns</p>\n",
       "</div>"
      ],
      "text/plain": [
       "                     address             business_id  \\\n",
       "0       30 Eglinton Avenue W  QXAEGFB4oINsVuTFxEYKFQ   \n",
       "1  10110 Johnston Rd, Ste 15  gnKjwL_1w79qoiV3IC_xQQ   \n",
       "\n",
       "                                          categories         city  \\\n",
       "0  Specialty Food, Restaurants, Dim Sum, Imported...  Mississauga   \n",
       "1                  Sushi Bars, Restaurants, Japanese    Charlotte   \n",
       "\n",
       "                                               hours  is_open   latitude  \\\n",
       "0  {'Monday': '9:0-0:0', 'Tuesday': '9:0-0:0', 'W...        1  43.605499   \n",
       "1  {'Monday': '17:30-21:30', 'Wednesday': '17:30-...        1  35.092564   \n",
       "\n",
       "   longitude                         name postal_code  ...  \\\n",
       "0 -79.652289   Emerald Chinese Restaurant     L5R 3E7  ...   \n",
       "1 -80.859132  Musashi Japanese Restaurant       28210  ...   \n",
       "\n",
       "   RestaurantsCounterService  RestaurantsDelivery RestaurantsGoodForGroups  \\\n",
       "0                        NaN                False                     True   \n",
       "1                        NaN                False                     True   \n",
       "\n",
       "  RestaurantsPriceRange2 RestaurantsReservations RestaurantsTableService  \\\n",
       "0                      2                    True                    True   \n",
       "1                      2                    True                    True   \n",
       "\n",
       "  RestaurantsTakeOut Smoking WheelchairAccessible   WiFi  \n",
       "0               True     NaN                  NaN  u'no'  \n",
       "1               True     NaN                  NaN  u'no'  \n",
       "\n",
       "[2 rows x 52 columns]"
      ]
     },
     "execution_count": 11,
     "metadata": {},
     "output_type": "execute_result"
    }
   ],
=======
   "execution_count": 3,
   "metadata": {},
   "outputs": [],
>>>>>>> d340e08c9dca2e223bbfe18e1f073cc29d6e2d33
   "source": [
    "categ = pd.read_csv(\"../data/categories.txt\")\n",
    "categ.Cuisine = categ.Cuisine.str.rstrip()\n",
    "categ = categ['Cuisine'].tolist()"
   ]
  },
  {
   "cell_type": "code",
<<<<<<< HEAD
   "execution_count": 16,
   "metadata": {},
   "outputs": [
    {
     "data": {
      "text/plain": [
       "array([2.5, 4. , 3.5, 4.5, 2. , 3. , 5. , 1.5, 1. ])"
      ]
     },
     "execution_count": 16,
     "metadata": {},
     "output_type": "execute_result"
    }
   ],
   "source": [
    "df[\"stars\"].unique()"
=======
   "execution_count": 4,
   "metadata": {},
   "outputs": [],
   "source": [
    "df = df[df.categories.str.contains('|'.join(categ))]"
   ]
  },
  {
   "cell_type": "code",
   "execution_count": 5,
   "metadata": {},
   "outputs": [],
   "source": [
    "temp = df.set_index('business_id').categories.str.split(', ', expand=True).stack()\n",
    "temp = pd.get_dummies(temp).groupby(level=0).sum()\n",
    "temp = temp.loc[:, (temp.sum() >= 500)]"
>>>>>>> d340e08c9dca2e223bbfe18e1f073cc29d6e2d33
   ]
  },
  {
   "cell_type": "code",
<<<<<<< HEAD
   "execution_count": 13,
=======
   "execution_count": 6,
   "metadata": {},
   "outputs": [],
   "source": [
    "result = pd.merge(df, temp, left_on='business_id', right_index=True,\n",
    "                  how='inner', sort=False)\n",
    "result = result.drop(['categories'], axis = 1)"
   ]
  },
  {
   "cell_type": "code",
   "execution_count": 7,
>>>>>>> d340e08c9dca2e223bbfe18e1f073cc29d6e2d33
   "metadata": {},
   "outputs": [
    {
     "data": {
      "text/plain": [
       "array(['ON', 'NC', 'AZ', 'OH', 'NV', 'PA', 'AB', 'QC', 'WI', 'IL', 'NY',\n",
       "       'SC', 'NM', 'WA', 'TX', 'BC', 'XWY', 'AR', 'FL', 'XGL'],\n",
       "      dtype=object)"
      ]
     },
<<<<<<< HEAD
     "execution_count": 13,
=======
     "execution_count": 7,
>>>>>>> d340e08c9dca2e223bbfe18e1f073cc29d6e2d33
     "metadata": {},
     "output_type": "execute_result"
    }
   ],
   "source": [
    "result[\"state\"].unique()"
   ]
  },
  {
   "cell_type": "code",
<<<<<<< HEAD
   "execution_count": 17,
=======
   "execution_count": 41,
>>>>>>> d340e08c9dca2e223bbfe18e1f073cc29d6e2d33
   "metadata": {},
   "outputs": [
    {
     "data": {
      "text/plain": [
<<<<<<< HEAD
       "Starbucks                          955\n",
       "McDonald's                         641\n",
       "Subway                             518\n",
       "Tim Hortons                        300\n",
       "Walgreens                          285\n",
       "                                  ... \n",
       "Lyna Nails                           1\n",
       "Tango Vietnamese Tropical Grill      1\n",
       "Teashop 168                          1\n",
       "Toasties                             1\n",
       "Eve's Tease                          1\n",
       "Name: name, Length: 56462, dtype: int64"
      ]
     },
     "execution_count": 17,
=======
       "Toronto                     6879\n",
       "Las Vegas                   5849\n",
       "Phoenix                     3594\n",
       "MontrГ©al                   3084\n",
       "Calgary                     2465\n",
       "Charlotte                   2400\n",
       "Pittsburgh                  2118\n",
       "Scottsdale                  1441\n",
       "Cleveland                   1249\n",
       "Mississauga                 1239\n",
       "Mesa                        1061\n",
       "Madison                     1008\n",
       "Tempe                        944\n",
       "Henderson                    810\n",
       "Chandler                     788\n",
       "Markham                      730\n",
       "Glendale                     640\n",
       "Gilbert                      527\n",
       "Scarborough                  444\n",
       "Richmond Hill                432\n",
       "Brampton                     425\n",
       "North York                   411\n",
       "Vaughan                      384\n",
       "Champaign                    379\n",
       "Peoria                       326\n",
       "North Las Vegas              315\n",
       "Concord                      294\n",
       "Etobicoke                    265\n",
       "Laval                        219\n",
       "Surprise                     201\n",
       "                            ... \n",
       "lyndhurst                      1\n",
       "MESA                           1\n",
       "Port Vue                       1\n",
       "Division No. 6                 1\n",
       "Saint-Basile-le-Grand          1\n",
       "springdale                     1\n",
       "Auburn Township                1\n",
       "Ste-DorothГ©e                  1\n",
       "Salaberry-De-Valleyfield       1\n",
       "Tornto                         1\n",
       "kirtland                       1\n",
       "Whiitby                        1\n",
       "Bois-des-Filion                1\n",
       "Lower burrell                  1\n",
       "Etobiicoke                     1\n",
       "Clark                          1\n",
       "South Amherst                  1\n",
       "Northwest Calgary              1\n",
       "Palgrave                       1\n",
       "Harrisbug                      1\n",
       "Montreal-Ouest                 1\n",
       "Mt Holly                       1\n",
       "East Pittsburgh                1\n",
       "Litchfield                     1\n",
       "Chertsey                       1\n",
       "AGINCOURT                      1\n",
       "Plum Boro                      1\n",
       "Holland Landing                1\n",
       "L'Assomption                   1\n",
       "Dormont                        1\n",
       "Name: city, Length: 703, dtype: int64"
      ]
     },
     "execution_count": 41,
>>>>>>> d340e08c9dca2e223bbfe18e1f073cc29d6e2d33
     "metadata": {},
     "output_type": "execute_result"
    }
   ],
   "source": [
<<<<<<< HEAD
    "df.name.value_counts()"
=======
    "result.city.value_counts()"
   ]
  },
  {
   "cell_type": "markdown",
   "metadata": {},
   "source": [
    "## New features"
   ]
  },
  {
   "cell_type": "markdown",
   "metadata": {},
   "source": [
    "Adding name length as feature"
>>>>>>> d340e08c9dca2e223bbfe18e1f073cc29d6e2d33
   ]
  },
  {
   "cell_type": "code",
<<<<<<< HEAD
   "execution_count": 15,
=======
   "execution_count": 42,
>>>>>>> d340e08c9dca2e223bbfe18e1f073cc29d6e2d33
   "metadata": {},
   "outputs": [],
   "source": [
    "result['name_length']  = result['name'].str.len()"
   ]
  },
  {
   "cell_type": "markdown",
   "metadata": {},
   "source": [
    "## Save the clean data"
   ]
  },
  {
   "cell_type": "code",
   "execution_count": 45,
   "metadata": {},
   "outputs": [],
   "source": [
    "result.to_csv('../data/data_clean.csv')"
   ]
  },
  {
   "cell_type": "code",
   "execution_count": null,
   "metadata": {},
   "outputs": [],
   "source": []
  }
 ],
 "metadata": {
  "kernelspec": {
   "display_name": "Python 3",
   "language": "python",
   "name": "python3"
  },
  "language_info": {
   "codemirror_mode": {
    "name": "ipython",
    "version": 3
   },
   "file_extension": ".py",
   "mimetype": "text/x-python",
   "name": "python",
   "nbconvert_exporter": "python",
   "pygments_lexer": "ipython3",
<<<<<<< HEAD
   "version": "3.7.4"
=======
   "version": "3.7.3"
>>>>>>> d340e08c9dca2e223bbfe18e1f073cc29d6e2d33
  },
  "varInspector": {
   "cols": {
    "lenName": 16,
    "lenType": 16,
    "lenVar": 40
   },
   "kernels_config": {
    "python": {
     "delete_cmd_postfix": "",
     "delete_cmd_prefix": "del ",
     "library": "var_list.py",
     "varRefreshCmd": "print(var_dic_list())"
    },
    "r": {
     "delete_cmd_postfix": ") ",
     "delete_cmd_prefix": "rm(",
     "library": "var_list.r",
     "varRefreshCmd": "cat(var_dic_list()) "
    }
   },
   "types_to_exclude": [
    "module",
    "function",
    "builtin_function_or_method",
    "instance",
    "_Feature"
   ],
   "window_display": false
  }
 },
 "nbformat": 4,
 "nbformat_minor": 2
}
