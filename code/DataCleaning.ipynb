{
 "cells": [
  {
   "cell_type": "markdown",
   "metadata": {},
   "source": [
    "# Data Cleaning\n",
    "\n",
    "In this part we are cleaning the data and extract new features from existing one."
   ]
  },
  {
   "cell_type": "code",
   "execution_count": 7,
   "metadata": {},
   "outputs": [],
   "source": [
    "import pandas as pd\n",
    "import numpy as np\n",
    "import matplotlib.pyplot as plt\n",
    "from pandas.io.json import json_normalize\n",
    "import re\n",
    "import os"
   ]
  },
  {
   "cell_type": "code",
   "execution_count": 8,
   "metadata": {},
   "outputs": [],
   "source": [
    "df = pd.read_csv(\"../data/data.csv\", \n",
    "                          encoding='utf_8', \n",
    "                          dtype = 'unicode',\n",
    "                          parse_dates = True,\n",
    "                          infer_datetime_format = True,\n",
    "                          low_memory=False)\n",
    "df = df.drop(\"Unnamed: 0\", axis = 1)\n"
   ]
  },
  {
   "cell_type": "code",
   "execution_count": 9,
   "metadata": {},
   "outputs": [],
   "source": [
    "categ = pd.read_csv(\"../data/categories.txt\")\n",
    "categ.Cuisine = categ.Cuisine.str.rstrip()\n",
    "categ = categ['Cuisine'].tolist()"
   ]
  },
  {
   "cell_type": "code",
   "execution_count": 10,
   "metadata": {},
   "outputs": [],
   "source": [
    "df = df[df.categories.str.contains('|'.join(categ))]"
   ]
  },
  {
   "cell_type": "code",
   "execution_count": 11,
   "metadata": {},
   "outputs": [],
   "source": [
    "temp = df.set_index('business_id').categories.str.split(', ', expand=True).stack()\n",
    "temp = pd.get_dummies(temp).groupby(level=0).sum()\n",
    "temp = temp.loc[:, (temp.sum() >= 500)]"
   ]
  },
  {
   "cell_type": "code",
   "execution_count": 12,
   "metadata": {},
   "outputs": [],
   "source": [
    "result = pd.merge(df, temp, left_on='business_id', right_index=True,\n",
    "                  how='inner', sort=False)\n",
    "result = result.drop(['categories'], axis = 1)"
   ]
  },
  {
   "cell_type": "code",
   "execution_count": 13,
   "metadata": {},
   "outputs": [
    {
     "data": {
      "text/plain": [
       "array(['ON', 'NC', 'AZ', 'OH', 'NV', 'PA', 'AB', 'QC', 'WI', 'IL', 'NY',\n",
       "       'SC', 'NM', 'WA', 'TX', 'BC', 'XWY', 'AR', 'FL', 'XGL'],\n",
       "      dtype=object)"
      ]
     },
     "execution_count": 13,
     "metadata": {},
     "output_type": "execute_result"
    }
   ],
   "source": [
    "result[\"state\"].unique()"
   ]
  },
  {
   "cell_type": "code",
   "execution_count": 14,
   "metadata": {},
   "outputs": [
    {
     "data": {
      "text/plain": [
       "Toronto                             6879\n",
       "Las Vegas                           5849\n",
       "Phoenix                             3594\n",
       "MontrГ©al                           3084\n",
       "Calgary                             2465\n",
       "Charlotte                           2400\n",
       "Pittsburgh                          2118\n",
       "Scottsdale                          1441\n",
       "Cleveland                           1249\n",
       "Mississauga                         1239\n",
       "Mesa                                1061\n",
       "Madison                             1008\n",
       "Tempe                                944\n",
       "Henderson                            810\n",
       "Chandler                             788\n",
       "Markham                              730\n",
       "Glendale                             640\n",
       "Gilbert                              527\n",
       "Scarborough                          444\n",
       "Richmond Hill                        432\n",
       "Brampton                             425\n",
       "North York                           411\n",
       "Vaughan                              384\n",
       "Champaign                            379\n",
       "Peoria                               326\n",
       "North Las Vegas                      315\n",
       "Concord                              294\n",
       "Etobicoke                            265\n",
       "Laval                                219\n",
       "Surprise                             201\n",
       "                                    ... \n",
       "Shorewood Hills                        1\n",
       "Sainte-ThГ©rГЁse-de-Blainville         1\n",
       "St Joseph                              1\n",
       "Bainbridge Township                    1\n",
       "Indianola                              1\n",
       "Auburn Twp                             1\n",
       "Oakridges                              1\n",
       "St-Clet                                1\n",
       "Concord Twp                            1\n",
       "Robinson Twp.                          1\n",
       "Henryville                             1\n",
       "Walton Hills                           1\n",
       "Westport                               1\n",
       "East Mc Keesport                       1\n",
       "charlotte                              1\n",
       "Ville Mont-Royal                       1\n",
       "Ste-Rose                               1\n",
       "Saint-Marc-sur-Richelieu               1\n",
       "Litchfield                             1\n",
       "Etibicoke                              1\n",
       "Ravenna                                1\n",
       "Sutersville                            1\n",
       "Centre Island                          1\n",
       "Sainte-Therese                         1\n",
       "Gormley                                1\n",
       "L'Assomption                           1\n",
       "Medicine Hat                           1\n",
       "Nellis Air Force Base                  1\n",
       "Forest Hills                           1\n",
       "CommunautГ©-Urbaine-de-MontrГ©al       1\n",
       "Name: city, Length: 703, dtype: int64"
      ]
     },
     "execution_count": 14,
     "metadata": {},
     "output_type": "execute_result"
    }
   ],
   "source": [
    "result.city.value_counts()"
   ]
  },
  {
   "cell_type": "markdown",
   "metadata": {},
   "source": [
    "## New features"
   ]
  },
  {
   "cell_type": "markdown",
   "metadata": {},
   "source": [
    "Adding name length as feature"
   ]
  },
  {
   "cell_type": "code",
   "execution_count": 22,
   "metadata": {},
   "outputs": [],
   "source": [
    "result['name_length']  = result['name'].str.len()"
   ]
  },
  {
   "cell_type": "markdown",
   "metadata": {},
   "source": [
    "## Save the clean data"
   ]
  },
  {
   "cell_type": "code",
   "execution_count": 23,
   "metadata": {},
   "outputs": [],
   "source": [
    "result.to_csv('../data/data_clean.csv')"
   ]
  },
  {
   "cell_type": "code",
   "execution_count": null,
   "metadata": {},
   "outputs": [],
   "source": []
  }
 ],
 "metadata": {
  "kernelspec": {
   "display_name": "Python 3",
   "language": "python",
   "name": "python3"
  },
  "language_info": {
   "codemirror_mode": {
    "name": "ipython",
    "version": 3
   },
   "file_extension": ".py",
   "mimetype": "text/x-python",
   "name": "python",
   "nbconvert_exporter": "python",
   "pygments_lexer": "ipython3",
   "version": "3.7.3"
  },
  "varInspector": {
   "cols": {
    "lenName": 16,
    "lenType": 16,
    "lenVar": 40
   },
   "kernels_config": {
    "python": {
     "delete_cmd_postfix": "",
     "delete_cmd_prefix": "del ",
     "library": "var_list.py",
     "varRefreshCmd": "print(var_dic_list())"
    },
    "r": {
     "delete_cmd_postfix": ") ",
     "delete_cmd_prefix": "rm(",
     "library": "var_list.r",
     "varRefreshCmd": "cat(var_dic_list()) "
    }
   },
   "types_to_exclude": [
    "module",
    "function",
    "builtin_function_or_method",
    "instance",
    "_Feature"
   ],
   "window_display": false
  }
 },
 "nbformat": 4,
 "nbformat_minor": 2
}
