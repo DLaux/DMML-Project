{
 "cells": [
  {
   "cell_type": "code",
<<<<<<< HEAD
   "execution_count": 48,
=======
   "execution_count": 1,
>>>>>>> 42e18a615d4dcfe66386c8bce44768c2ccd82c86
   "metadata": {},
   "outputs": [],
   "source": [
    "import pandas as pd\n",
    "import numpy as np\n",
    "import matplotlib.pyplot as plt"
   ]
  },
  {
   "cell_type": "code",
<<<<<<< HEAD
   "execution_count": 4,
   "metadata": {},
   "outputs": [],
   "source": [
    "business = pd.read_json(r\"C:\\Users\\David\\Desktop\\business.json\", lines=True)"
=======
   "execution_count": 8,
   "metadata": {},
   "outputs": [],
   "source": [
    "df = pd.read_csv(\"..\\\\data\\\\data.csv\")\n",
    "df = df.drop(\"Unnamed: 0\", axis = 1)"
>>>>>>> 42e18a615d4dcfe66386c8bce44768c2ccd82c86
   ]
  },
  {
   "cell_type": "code",
<<<<<<< HEAD
   "execution_count": 53,
=======
   "execution_count": 9,
>>>>>>> 42e18a615d4dcfe66386c8bce44768c2ccd82c86
   "metadata": {},
   "outputs": [
    {
     "data": {
      "text/html": [
       "<div>\n",
       "<style scoped>\n",
       "    .dataframe tbody tr th:only-of-type {\n",
       "        vertical-align: middle;\n",
       "    }\n",
       "\n",
       "    .dataframe tbody tr th {\n",
       "        vertical-align: top;\n",
       "    }\n",
       "\n",
       "    .dataframe thead th {\n",
       "        text-align: right;\n",
       "    }\n",
       "</style>\n",
       "<table border=\"1\" class=\"dataframe\">\n",
       "  <thead>\n",
       "    <tr style=\"text-align: right;\">\n",
       "      <th></th>\n",
       "      <th>address</th>\n",
<<<<<<< HEAD
       "      <th>attributes</th>\n",
=======
>>>>>>> 42e18a615d4dcfe66386c8bce44768c2ccd82c86
       "      <th>business_id</th>\n",
       "      <th>categories</th>\n",
       "      <th>city</th>\n",
       "      <th>hours</th>\n",
       "      <th>is_open</th>\n",
       "      <th>latitude</th>\n",
       "      <th>longitude</th>\n",
       "      <th>name</th>\n",
       "      <th>postal_code</th>\n",
<<<<<<< HEAD
       "      <th>review_count</th>\n",
       "      <th>stars</th>\n",
       "      <th>state</th>\n",
=======
       "      <th>...</th>\n",
       "      <th>RestaurantsCounterService</th>\n",
       "      <th>RestaurantsDelivery</th>\n",
       "      <th>RestaurantsGoodForGroups</th>\n",
       "      <th>RestaurantsPriceRange2</th>\n",
       "      <th>RestaurantsReservations</th>\n",
       "      <th>RestaurantsTableService</th>\n",
       "      <th>RestaurantsTakeOut</th>\n",
       "      <th>Smoking</th>\n",
       "      <th>WheelchairAccessible</th>\n",
       "      <th>WiFi</th>\n",
>>>>>>> 42e18a615d4dcfe66386c8bce44768c2ccd82c86
       "    </tr>\n",
       "  </thead>\n",
       "  <tbody>\n",
       "    <tr>\n",
       "      <th>0</th>\n",
<<<<<<< HEAD
       "      <td>2818 E Camino Acequia Drive</td>\n",
       "      <td>{'GoodForKids': 'False'}</td>\n",
       "      <td>1SWheh84yJXfytovILXOAQ</td>\n",
       "      <td>Golf, Active Life</td>\n",
       "      <td>Phoenix</td>\n",
       "      <td>None</td>\n",
       "      <td>0</td>\n",
       "      <td>33.522143</td>\n",
       "      <td>-112.018481</td>\n",
       "      <td>Arizona Biltmore Golf Club</td>\n",
       "      <td>85016</td>\n",
       "      <td>5</td>\n",
       "      <td>3.0</td>\n",
       "      <td>AZ</td>\n",
       "    </tr>\n",
       "    <tr>\n",
       "      <th>1</th>\n",
       "      <td>30 Eglinton Avenue W</td>\n",
       "      <td>{'RestaurantsReservations': 'True', 'GoodForMe...</td>\n",
=======
       "      <td>30 Eglinton Avenue W</td>\n",
>>>>>>> 42e18a615d4dcfe66386c8bce44768c2ccd82c86
       "      <td>QXAEGFB4oINsVuTFxEYKFQ</td>\n",
       "      <td>Specialty Food, Restaurants, Dim Sum, Imported...</td>\n",
       "      <td>Mississauga</td>\n",
       "      <td>{'Monday': '9:0-0:0', 'Tuesday': '9:0-0:0', 'W...</td>\n",
       "      <td>1</td>\n",
       "      <td>43.605499</td>\n",
       "      <td>-79.652289</td>\n",
       "      <td>Emerald Chinese Restaurant</td>\n",
       "      <td>L5R 3E7</td>\n",
<<<<<<< HEAD
       "      <td>128</td>\n",
       "      <td>2.5</td>\n",
       "      <td>ON</td>\n",
       "    </tr>\n",
       "    <tr>\n",
       "      <th>2</th>\n",
       "      <td>10110 Johnston Rd, Ste 15</td>\n",
       "      <td>{'GoodForKids': 'True', 'NoiseLevel': 'u'avera...</td>\n",
=======
       "      <td>...</td>\n",
       "      <td>NaN</td>\n",
       "      <td>False</td>\n",
       "      <td>True</td>\n",
       "      <td>2</td>\n",
       "      <td>True</td>\n",
       "      <td>True</td>\n",
       "      <td>True</td>\n",
       "      <td>NaN</td>\n",
       "      <td>NaN</td>\n",
       "      <td>u'no'</td>\n",
       "    </tr>\n",
       "    <tr>\n",
       "      <th>1</th>\n",
       "      <td>10110 Johnston Rd, Ste 15</td>\n",
>>>>>>> 42e18a615d4dcfe66386c8bce44768c2ccd82c86
       "      <td>gnKjwL_1w79qoiV3IC_xQQ</td>\n",
       "      <td>Sushi Bars, Restaurants, Japanese</td>\n",
       "      <td>Charlotte</td>\n",
       "      <td>{'Monday': '17:30-21:30', 'Wednesday': '17:30-...</td>\n",
       "      <td>1</td>\n",
       "      <td>35.092564</td>\n",
       "      <td>-80.859132</td>\n",
       "      <td>Musashi Japanese Restaurant</td>\n",
       "      <td>28210</td>\n",
<<<<<<< HEAD
       "      <td>170</td>\n",
       "      <td>4.0</td>\n",
       "      <td>NC</td>\n",
       "    </tr>\n",
       "    <tr>\n",
       "      <th>3</th>\n",
       "      <td>15655 W Roosevelt St, Ste 237</td>\n",
       "      <td>None</td>\n",
       "      <td>xvX2CttrVhyG2z1dFg_0xw</td>\n",
       "      <td>Insurance, Financial Services</td>\n",
       "      <td>Goodyear</td>\n",
       "      <td>{'Monday': '8:0-17:0', 'Tuesday': '8:0-17:0', ...</td>\n",
       "      <td>1</td>\n",
       "      <td>33.455613</td>\n",
       "      <td>-112.395596</td>\n",
       "      <td>Farmers Insurance - Paul Lorenz</td>\n",
       "      <td>85338</td>\n",
       "      <td>3</td>\n",
       "      <td>5.0</td>\n",
       "      <td>AZ</td>\n",
       "    </tr>\n",
       "    <tr>\n",
       "      <th>4</th>\n",
       "      <td>4209 Stuart Andrew Blvd, Ste F</td>\n",
       "      <td>{'BusinessAcceptsBitcoin': 'False', 'ByAppoint...</td>\n",
       "      <td>HhyxOkGAM07SRYtlQ4wMFQ</td>\n",
       "      <td>Plumbing, Shopping, Local Services, Home Servi...</td>\n",
       "      <td>Charlotte</td>\n",
       "      <td>{'Monday': '7:0-23:0', 'Tuesday': '7:0-23:0', ...</td>\n",
       "      <td>1</td>\n",
       "      <td>35.190012</td>\n",
       "      <td>-80.887223</td>\n",
       "      <td>Queen City Plumbing</td>\n",
       "      <td>28217</td>\n",
       "      <td>4</td>\n",
       "      <td>4.0</td>\n",
       "      <td>NC</td>\n",
       "    </tr>\n",
       "  </tbody>\n",
       "</table>\n",
       "</div>"
      ],
      "text/plain": [
       "                          address  \\\n",
       "0     2818 E Camino Acequia Drive   \n",
       "1            30 Eglinton Avenue W   \n",
       "2       10110 Johnston Rd, Ste 15   \n",
       "3   15655 W Roosevelt St, Ste 237   \n",
       "4  4209 Stuart Andrew Blvd, Ste F   \n",
       "\n",
       "                                          attributes             business_id  \\\n",
       "0                           {'GoodForKids': 'False'}  1SWheh84yJXfytovILXOAQ   \n",
       "1  {'RestaurantsReservations': 'True', 'GoodForMe...  QXAEGFB4oINsVuTFxEYKFQ   \n",
       "2  {'GoodForKids': 'True', 'NoiseLevel': 'u'avera...  gnKjwL_1w79qoiV3IC_xQQ   \n",
       "3                                               None  xvX2CttrVhyG2z1dFg_0xw   \n",
       "4  {'BusinessAcceptsBitcoin': 'False', 'ByAppoint...  HhyxOkGAM07SRYtlQ4wMFQ   \n",
       "\n",
       "                                          categories         city  \\\n",
       "0                                  Golf, Active Life      Phoenix   \n",
       "1  Specialty Food, Restaurants, Dim Sum, Imported...  Mississauga   \n",
       "2                  Sushi Bars, Restaurants, Japanese    Charlotte   \n",
       "3                      Insurance, Financial Services     Goodyear   \n",
       "4  Plumbing, Shopping, Local Services, Home Servi...    Charlotte   \n",
       "\n",
       "                                               hours  is_open   latitude  \\\n",
       "0                                               None        0  33.522143   \n",
       "1  {'Monday': '9:0-0:0', 'Tuesday': '9:0-0:0', 'W...        1  43.605499   \n",
       "2  {'Monday': '17:30-21:30', 'Wednesday': '17:30-...        1  35.092564   \n",
       "3  {'Monday': '8:0-17:0', 'Tuesday': '8:0-17:0', ...        1  33.455613   \n",
       "4  {'Monday': '7:0-23:0', 'Tuesday': '7:0-23:0', ...        1  35.190012   \n",
       "\n",
       "    longitude                             name postal_code  review_count  \\\n",
       "0 -112.018481       Arizona Biltmore Golf Club       85016             5   \n",
       "1  -79.652289       Emerald Chinese Restaurant     L5R 3E7           128   \n",
       "2  -80.859132      Musashi Japanese Restaurant       28210           170   \n",
       "3 -112.395596  Farmers Insurance - Paul Lorenz       85338             3   \n",
       "4  -80.887223              Queen City Plumbing       28217             4   \n",
       "\n",
       "   stars state  \n",
       "0    3.0    AZ  \n",
       "1    2.5    ON  \n",
       "2    4.0    NC  \n",
       "3    5.0    AZ  \n",
       "4    4.0    NC  "
      ]
     },
     "execution_count": 53,
=======
       "      <td>...</td>\n",
       "      <td>NaN</td>\n",
       "      <td>False</td>\n",
       "      <td>True</td>\n",
       "      <td>2</td>\n",
       "      <td>True</td>\n",
       "      <td>True</td>\n",
       "      <td>True</td>\n",
       "      <td>NaN</td>\n",
       "      <td>NaN</td>\n",
       "      <td>u'no'</td>\n",
       "    </tr>\n",
       "  </tbody>\n",
       "</table>\n",
       "<p>2 rows × 52 columns</p>\n",
       "</div>"
      ],
      "text/plain": [
       "                     address             business_id  \\\n",
       "0       30 Eglinton Avenue W  QXAEGFB4oINsVuTFxEYKFQ   \n",
       "1  10110 Johnston Rd, Ste 15  gnKjwL_1w79qoiV3IC_xQQ   \n",
       "\n",
       "                                          categories         city  \\\n",
       "0  Specialty Food, Restaurants, Dim Sum, Imported...  Mississauga   \n",
       "1                  Sushi Bars, Restaurants, Japanese    Charlotte   \n",
       "\n",
       "                                               hours  is_open   latitude  \\\n",
       "0  {'Monday': '9:0-0:0', 'Tuesday': '9:0-0:0', 'W...        1  43.605499   \n",
       "1  {'Monday': '17:30-21:30', 'Wednesday': '17:30-...        1  35.092564   \n",
       "\n",
       "   longitude                         name postal_code  ...    \\\n",
       "0 -79.652289   Emerald Chinese Restaurant     L5R 3E7  ...     \n",
       "1 -80.859132  Musashi Japanese Restaurant       28210  ...     \n",
       "\n",
       "   RestaurantsCounterService  RestaurantsDelivery RestaurantsGoodForGroups  \\\n",
       "0                        NaN                False                     True   \n",
       "1                        NaN                False                     True   \n",
       "\n",
       "  RestaurantsPriceRange2 RestaurantsReservations RestaurantsTableService  \\\n",
       "0                      2                    True                    True   \n",
       "1                      2                    True                    True   \n",
       "\n",
       "  RestaurantsTakeOut Smoking WheelchairAccessible   WiFi  \n",
       "0               True     NaN                  NaN  u'no'  \n",
       "1               True     NaN                  NaN  u'no'  \n",
       "\n",
       "[2 rows x 52 columns]"
      ]
     },
     "execution_count": 9,
>>>>>>> 42e18a615d4dcfe66386c8bce44768c2ccd82c86
     "metadata": {},
     "output_type": "execute_result"
    }
   ],
   "source": [
<<<<<<< HEAD
    "business.head(5)"
=======
    "df.head(2)"
>>>>>>> 42e18a615d4dcfe66386c8bce44768c2ccd82c86
   ]
  },
  {
   "cell_type": "code",
<<<<<<< HEAD
   "execution_count": 9,
=======
   "execution_count": 10,
>>>>>>> 42e18a615d4dcfe66386c8bce44768c2ccd82c86
   "metadata": {},
   "outputs": [
    {
     "data": {
      "text/plain": [
<<<<<<< HEAD
       "array(['AZ', 'ON', 'NC', 'AB', 'NV', 'OH', 'PA', 'QC', 'WI', 'IL', 'NY',\n",
       "       'SC', 'TX', 'UT', 'NM', 'FL', 'CA', 'VA', 'BAS', 'NE', 'AK', 'XGM',\n",
       "       'WA', 'XWY', 'CON', 'BC', 'GA', 'VT', 'CT', 'AL', 'DUR', 'TN',\n",
       "       'NJ', 'AR', 'XGL', 'DOW'], dtype=object)"
      ]
     },
     "execution_count": 9,
=======
       "array(['ON', 'NC', 'AB', 'NV', 'AZ', 'OH', 'PA', 'QC', 'WI', 'IL', 'NY',\n",
       "       'SC', 'TX', 'NM', 'BAS', 'AK', 'XGM', 'CA', 'WA', 'BC', 'VT', 'CT',\n",
       "       'GA', 'AL', 'XWY', 'AR', 'FL', 'XGL'], dtype=object)"
      ]
     },
     "execution_count": 10,
>>>>>>> 42e18a615d4dcfe66386c8bce44768c2ccd82c86
     "metadata": {},
     "output_type": "execute_result"
    }
   ],
   "source": [
<<<<<<< HEAD
    "business[\"state\"].unique()"
=======
    "df[\"state\"].unique()"
>>>>>>> 42e18a615d4dcfe66386c8bce44768c2ccd82c86
   ]
  },
  {
   "cell_type": "code",
<<<<<<< HEAD
   "execution_count": 67,
=======
   "execution_count": 12,
>>>>>>> 42e18a615d4dcfe66386c8bce44768c2ccd82c86
   "metadata": {},
   "outputs": [
    {
     "data": {
      "text/plain": [
<<<<<<< HEAD
       "23793"
      ]
     },
     "execution_count": 67,
=======
       "108179"
      ]
     },
     "execution_count": 12,
>>>>>>> 42e18a615d4dcfe66386c8bce44768c2ccd82c86
     "metadata": {},
     "output_type": "execute_result"
    }
   ],
   "source": [
<<<<<<< HEAD
    "business.groupby(\"city\")[\"business_id\"].count()"
=======
    "df.groupby(\"city\")[\"business_id\"].count().sum()"
>>>>>>> 42e18a615d4dcfe66386c8bce44768c2ccd82c86
   ]
  },
  {
   "cell_type": "code",
<<<<<<< HEAD
   "execution_count": 68,
=======
   "execution_count": 13,
>>>>>>> 42e18a615d4dcfe66386c8bce44768c2ccd82c86
   "metadata": {},
   "outputs": [
    {
     "data": {
      "text/plain": [
<<<<<<< HEAD
       "Las Vegas                      23793\n",
       "Phoenix                        15473\n",
       "Toronto                        14331\n",
       "Charlotte                       7947\n",
       "Scottsdale                      7081\n",
       "Calgary                         6446\n",
       "Pittsburgh                      5737\n",
       "MontrÃ©al                       5163\n",
       "Mesa                            5149\n",
       "Henderson                       4026\n",
       "Tempe                           3584\n",
       "Chandler                        3525\n",
       "Glendale                        2976\n",
       "Gilbert                         2970\n",
       "Cleveland                       2947\n",
       "Madison                         2791\n",
       "Mississauga                     2680\n",
       "Peoria                          1663\n",
       "Markham                         1367\n",
       "North Las Vegas                 1312\n",
       "North York                      1008\n",
       "Surprise                         994\n",
       "Champaign                        992\n",
       "Scarborough                      926\n",
       "Brampton                         884\n",
       "Concord                          861\n",
       "Richmond Hill                    792\n",
       "Vaughan                          776\n",
       "Goodyear                         749\n",
       "Etobicoke                        694\n",
       "                               ...  \n",
       "Ranlo                              1\n",
       "Los Angeles                        1\n",
       "Tolono                             1\n",
       "Scarobrough                        1\n",
       "Peninsul                           1\n",
       "Chander                            1\n",
       "Surprise Crossing                  1\n",
       "South Russell                      1\n",
       "Wellington                         1\n",
       "London                             1\n",
       "AZ                                 1\n",
       "Somerton                           1\n",
       "St-BenoÃ®t de Mirabel              1\n",
       "Saintt-Bruno-de-Montarville        1\n",
       "Las Vegas NV                       1\n",
       "Chandler-Gilbert                   1\n",
       "Citibank                           1\n",
       "Troy Township                      1\n",
       "Woodbridge (Vaughan)               1\n",
       "Chattanooga                        1\n",
       "INDIAN LAND                        1\n",
       "Brownsburg-Chatham                 1\n",
       "Mayfield Hts.                      1\n",
       "Allegheny                          1\n",
       "Saint Leonard                      1\n",
       "East Hawkesbury                    1\n",
       "De l'Eglise                        1\n",
       "Lavaltrie                          1\n",
       "Agincourt                          1\n",
       "                                   1\n",
       "Name: city, Length: 1148, dtype: int64"
      ]
     },
     "execution_count": 68,
=======
       "Las Vegas                                 14891\n",
       "Toronto                                   13513\n",
       "Phoenix                                    8484\n",
       "Charlotte                                  5389\n",
       "Calgary                                    5008\n",
       "MontrГ©al                                  4915\n",
       "Pittsburgh                                 4366\n",
       "Scottsdale                                 4235\n",
       "Mesa                                       2562\n",
       "Tempe                                      2270\n",
       "Cleveland                                  2243\n",
       "Madison                                    2176\n",
       "Henderson                                  2125\n",
       "Mississauga                                2097\n",
       "Chandler                                   2064\n",
       "Glendale                                   1737\n",
       "Gilbert                                    1420\n",
       "Markham                                    1274\n",
       "Peoria                                      826\n",
       "North York                                  791\n",
       "Champaign                                   790\n",
       "North Las Vegas                             727\n",
       "Scarborough                                 716\n",
       "Richmond Hill                               703\n",
       "Brampton                                    637\n",
       "Vaughan                                     632\n",
       "Concord                                     574\n",
       "Etobicoke                                   512\n",
       "Surprise                                    496\n",
       "Goodyear                                    423\n",
       "                                          ...  \n",
       "Henderson (Green Valley)                      1\n",
       "Catawba Springs                               1\n",
       "Caledon Village                               1\n",
       "Phoenix, AZ                                   1\n",
       "Lynhurst                                      1\n",
       "QUEEN CREEK                                   1\n",
       "MontГ©al                                      1\n",
       "Leeds                                         1\n",
       "Rockyview                                     1\n",
       "Scarbrough                                    1\n",
       "Schaumburg                                    1\n",
       "Pointe Claire                                 1\n",
       "Napierville                                   1\n",
       "Whtiby                                        1\n",
       "Montgomery                                    1\n",
       "Alburg                                        1\n",
       "CAREFREE                                      1\n",
       "Northyork                                     1\n",
       "Lower Lawrenceville                           1\n",
       "Hampstead                                     1\n",
       "Greensboro                                    1\n",
       "Oakridges                                     1\n",
       "St-BenoГ®t de Mirabel                         1\n",
       "Strip District                                1\n",
       "McKeesRocks                                   1\n",
       "University Hts                                1\n",
       "Saint-Pierre-de-VГ©ronne-Г -Pike-River        1\n",
       "Lake Park                                     1\n",
       "Fithian                                       1\n",
       "Rougemont                                     1\n",
       "Name: city, Length: 907, dtype: int64"
      ]
     },
     "execution_count": 13,
>>>>>>> 42e18a615d4dcfe66386c8bce44768c2ccd82c86
     "metadata": {},
     "output_type": "execute_result"
    }
   ],
   "source": [
<<<<<<< HEAD
    "business.city.value_counts()"
=======
    "df.city.value_counts()"
>>>>>>> 42e18a615d4dcfe66386c8bce44768c2ccd82c86
   ]
  },
  {
   "cell_type": "code",
<<<<<<< HEAD
   "execution_count": 54,
   "metadata": {},
   "outputs": [],
   "source": [
    "business = business[business[\"is_open\"] == 1]"
   ]
  },
  {
   "cell_type": "code",
   "execution_count": 35,
   "metadata": {},
   "outputs": [],
   "source": [
    "if business['attributes'].str.contains(\"RestaurantsPriceRange2\", na=False).any():\n",
    "    print(\"true\")"
=======
   "execution_count": 14,
   "metadata": {},
   "outputs": [],
   "source": [
    "df = df[df[\"is_open\"] == 1]"
>>>>>>> 42e18a615d4dcfe66386c8bce44768c2ccd82c86
   ]
  },
  {
   "cell_type": "code",
   "execution_count": null,
   "metadata": {},
   "outputs": [],
   "source": []
  },
  {
   "cell_type": "code",
   "execution_count": null,
   "metadata": {},
   "outputs": [],
   "source": []
  }
 ],
 "metadata": {
  "kernelspec": {
   "display_name": "Python 3",
   "language": "python",
   "name": "python3"
  },
  "language_info": {
   "codemirror_mode": {
    "name": "ipython",
    "version": 3
   },
   "file_extension": ".py",
   "mimetype": "text/x-python",
   "name": "python",
   "nbconvert_exporter": "python",
   "pygments_lexer": "ipython3",
<<<<<<< HEAD
   "version": "3.7.3"
=======
   "version": "3.7.1"
  },
  "varInspector": {
   "cols": {
    "lenName": 16,
    "lenType": 16,
    "lenVar": 40
   },
   "kernels_config": {
    "python": {
     "delete_cmd_postfix": "",
     "delete_cmd_prefix": "del ",
     "library": "var_list.py",
     "varRefreshCmd": "print(var_dic_list())"
    },
    "r": {
     "delete_cmd_postfix": ") ",
     "delete_cmd_prefix": "rm(",
     "library": "var_list.r",
     "varRefreshCmd": "cat(var_dic_list()) "
    }
   },
   "types_to_exclude": [
    "module",
    "function",
    "builtin_function_or_method",
    "instance",
    "_Feature"
   ],
   "window_display": false
>>>>>>> 42e18a615d4dcfe66386c8bce44768c2ccd82c86
  }
 },
 "nbformat": 4,
 "nbformat_minor": 2
}
