{
 "cells": [
  {
   "cell_type": "markdown",
   "metadata": {},
   "source": [
    "# DMML Project Team Tissot\n",
    "**Authors:** David Laux, Maksim Solonin, Romin Vivarié, Samuel Randin "
   ]
  },
  {
   "cell_type": "markdown",
   "metadata": {},
   "source": [
    "## Business Understanding\n",
    "- Identify, define, and motivate the business problem that you are addressing. \n",
    "- How (precisely) will a data mining solution address the business problem?"
   ]
  },
  {
   "cell_type": "markdown",
   "metadata": {},
   "source": [
    "## Data Understanding\n",
    "- Identify and describe the data (and data sources) that will support data mining to address the business problem.\n",
    "Include those aspects of the data that we routinely talk about in class and/or in the homeworks.\n"
   ]
  },
  {
   "cell_type": "markdown",
   "metadata": {},
   "source": [
    "## Data Preparation/Pre-processing\n",
    "- Specify how these data are integrated to produce the format required for data mining. Make sure you also find\n",
    "additional data to augment the original features. This is a requirement here. (NB: data preparation can be time consuming. Get started early.)"
   ]
  },
  {
   "cell_type": "markdown",
   "metadata": {},
   "source": [
    "## Data Mining Algorithms used and why\n",
    "- Specify the type of model(s) built and/or patterns mined.\n",
    "- Discuss choices for data mining algorithm: what are alternatives, and what are the pros and cons?\n",
    "- Discuss why and how this model should “solve” the business problem (i.e., improve along some dimension of\n",
    "interest to the firm).\n"
   ]
  },
  {
   "cell_type": "markdown",
   "metadata": {},
   "source": [
    "## Evaluation/Graphs/Tables\n",
    "- Discuss how the result of the data mining is/should be evaluated. How should a business case be developed to\n",
    "project expected improvement? ROI? If this is impossible/very difficult, explain why and identify any viable\n",
    "alternatives.\n",
    "- (Bonus) Interactive tools for your notebook, so that the user can play with different parameters and see the output.\n"
   ]
  },
  {
   "cell_type": "markdown",
   "metadata": {},
   "source": [
    "## Deployment\n",
    "- Discuss how the result of the data mining will be deployed.\n",
    "- Discussion on what was hard to achieve, limitations\n",
    "- Observations, conclusions\n",
    "- Are there important ethical considerations?\n"
   ]
  },
  {
   "cell_type": "markdown",
   "metadata": {},
   "source": [
    "## Contributions\n",
    "- The names of the team member, and what they did for this project. If someone contributed only for the video, or for\n",
    "bringing coffee (hopefully not!) that’s ok. Just write that.\n"
   ]
  },
  {
   "cell_type": "code",
   "execution_count": null,
   "metadata": {},
   "outputs": [],
   "source": []
  }
 ],
 "metadata": {
  "kernelspec": {
   "display_name": "Python 3",
   "language": "python",
   "name": "python3"
  },
  "language_info": {
   "codemirror_mode": {
    "name": "ipython",
    "version": 3
   },
   "file_extension": ".py",
   "mimetype": "text/x-python",
   "name": "python",
   "nbconvert_exporter": "python",
   "pygments_lexer": "ipython3",
   "version": "3.7.3"
  },
  "varInspector": {
   "cols": {
    "lenName": 16,
    "lenType": 16,
    "lenVar": 40
   },
   "kernels_config": {
    "python": {
     "delete_cmd_postfix": "",
     "delete_cmd_prefix": "del ",
     "library": "var_list.py",
     "varRefreshCmd": "print(var_dic_list())"
    },
    "r": {
     "delete_cmd_postfix": ") ",
     "delete_cmd_prefix": "rm(",
     "library": "var_list.r",
     "varRefreshCmd": "cat(var_dic_list()) "
    }
   },
   "types_to_exclude": [
    "module",
    "function",
    "builtin_function_or_method",
    "instance",
    "_Feature"
   ],
   "window_display": false
  }
 },
 "nbformat": 4,
 "nbformat_minor": 2
}
